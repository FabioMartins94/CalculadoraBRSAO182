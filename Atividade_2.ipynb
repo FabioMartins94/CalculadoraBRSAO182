{
  "nbformat": 4,
  "nbformat_minor": 0,
  "metadata": {
    "colab": {
      "provenance": [],
      "authorship_tag": "ABX9TyPCu7ZdZOpDy1h9YP94JkRz",
      "include_colab_link": true
    },
    "kernelspec": {
      "name": "python3",
      "display_name": "Python 3"
    },
    "language_info": {
      "name": "python"
    }
  },
  "cells": [
    {
      "cell_type": "markdown",
      "metadata": {
        "id": "view-in-github",
        "colab_type": "text"
      },
      "source": [
        "<a href=\"https://colab.research.google.com/github/FabioMartins94/CalculadoraBRSAO182/blob/main/Atividade_2.ipynb\" target=\"_parent\"><img src=\"https://colab.research.google.com/assets/colab-badge.svg\" alt=\"Open In Colab\"/></a>"
      ]
    },
    {
      "cell_type": "code",
      "execution_count": 13,
      "metadata": {
        "colab": {
          "base_uri": "https://localhost:8080/"
        },
        "id": "WqxgLFIY7j9q",
        "outputId": "205bf040-aa3c-497b-84f4-d83c04353014",
        "collapsed": true
      },
      "outputs": [
        {
          "output_type": "stream",
          "name": "stdout",
          "text": [
            "Digite a nota do aluno (ou 'fim' para encerrar): 2\n",
            "A média da turma é  2.0\n",
            "Digite a nota do aluno (ou 'fim' para encerrar): 8\n",
            "A média da turma é  5.0\n",
            "Digite a nota do aluno (ou 'fim' para encerrar): fim\n",
            "Encerramento do programa\n"
          ]
        }
      ],
      "source": [
        "def RegistroNotas ():\n",
        "\n",
        "  lista_de_notas = []\n",
        "\n",
        "  while True:\n",
        "    entrada = input (\"Digite a nota do aluno (ou 'fim' para encerrar): \")\n",
        "    if entrada == \"fim\":\n",
        "      print (\"Encerramento do programa\")\n",
        "      break\n",
        "\n",
        "    else:\n",
        "      try:\n",
        "        nota = float(entrada)\n",
        "        if 0 <= nota <10:\n",
        "          lista_de_notas.append(nota)\n",
        "        else:\n",
        "          print(\"Nota inválida. Digite uma nota entre 0 e 10.\\n\")\n",
        "      except ValueError:\n",
        "        print (\"Entrada inválida\")\n",
        "\n",
        "\n",
        "      if lista_de_notas:\n",
        "\n",
        "        media = sum(lista_de_notas)/len(lista_de_notas)\n",
        "        print(f\"A média da turma é  {media}\")\n",
        "\n",
        "\n",
        "RegistroNotas ()"
      ]
    }
  ]
}